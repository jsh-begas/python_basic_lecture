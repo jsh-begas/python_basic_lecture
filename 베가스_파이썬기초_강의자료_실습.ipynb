{
 "cells": [
  {
   "cell_type": "markdown",
   "id": "c609f6b6",
   "metadata": {},
   "source": [
    "# 목차\n",
    "1. 주피터 노트북 일반\n",
    "  - 편집모드 및 실행\n",
    "  - 마크다운 문법\n",
    "2. 기초 문법\n",
    "  - 변수/변수형\n",
    "  - collection 객체 다루기\n",
    "  - 조건문과 반복문\n",
    "  - 함수\n",
    "3. 데이터 핸들링(pandas 기반)\n",
    "  - csv 불러오기 / 출력\n",
    "  - 데이터 합치기(merge, concat)\n",
    "  - 데이터 재형성(stack, unstack)\n",
    "4. 패키지 불러오기"
   ]
  },
  {
   "cell_type": "markdown",
   "id": "66efc852",
   "metadata": {},
   "source": [
    "# 1. 주피터 노트북 일반\n",
    "## jupyter notebook 설명서(영문)\n",
    "https://jupyter-notebook.readthedocs.io/"
   ]
  },
  {
   "cell_type": "markdown",
   "id": "17c7e031",
   "metadata": {},
   "source": [
    "## 편집모드 및 실행\n",
    "- 셀의 코드부분을 선택하거나 enter를 눌러 편집모드(오른쪽 위에 펜 표시, 선택된 셀의 초록색 사각형 테두리로 확인)로 들어가면 편집이 가능\n",
    "- esc를 누르면 편집모드에서 나와서 커맨드모드(오른쪽 위에 펜 표시가 없어짐, 선택된 셀의 파란색 테두리로 확인)로 들어갈 수 있음. 커맨드 모드에서는 키보드의 버튼이 셀의 추가/삭제 등의 단축키와 연결되므로, **이 상태에서 코드를 입력하려고 하면 예상하지 못한 결과가 발생할 수 있으니 주의**\n",
    "- 어느 모드이건 위의 Run 버튼 등을 이용해서 셀 단위로 실행 가능. 마크다운이라면 조판되고, 코드라면 실행 후 출력된 결과 들이 셀 밑에 생성됨"
   ]
  },
  {
   "cell_type": "markdown",
   "id": "e158704c",
   "metadata": {},
   "source": [
    "## 마크다운 문법 <a name=\"mdsyntax_head\"></a>\n",
    "- 마크다운 셀은 python 코드가 아니라 markdown 마크업 언어로 설명글 등을 작성하는 용도로 사용\n",
    "- 여기서는 자주 사용되는 마크다운 문법들을 참고용으로 작성함. \n",
    "  조판된 마크다운 셀은 편집모드로 다시 들어가면 markdown으로 어떻게 작성했는지 확인 가능\n",
    "- 조판했을때 markdown 문법 적용 안하고 그대로 표기 하기 : backtick(\\`) 로 감싼 부분"
   ]
  },
  {
   "cell_type": "markdown",
   "id": "210a4f7a",
   "metadata": {},
   "source": [
    "### 제목(headings)\n",
    "- 행 맨 앞의 샵('#') 기호로 제목 부분임을 표기\n",
    "- 기호 수로 수준을 정함\n",
    "\n",
    "예제\n",
    "# 1수준\n",
    "## 2수준\n",
    "### 3수준\n",
    "#### 4수준\n",
    "##### 5수준\n",
    "###### 6수준"
   ]
  },
  {
   "cell_type": "markdown",
   "id": "d03e057e",
   "metadata": {},
   "source": [
    "### 강조(굵은 문자)\n",
    "- 아스테리스크 2개나 밑줄 2개로 감싼 부분은 강조됨\n",
    "\n",
    "예제\n",
    "\n",
    "**아스테리스크 강조**\n",
    "\n",
    "__밑줄 강조__"
   ]
  },
  {
   "cell_type": "markdown",
   "id": "65002aa6",
   "metadata": {},
   "source": [
    "### 리스트\n",
    "- 행 맨앞의 하이픈으로 숫자 없는 항목형 리스트 구성\n",
    "- 행 맨앞의 (숫자).표기로 숫자 리스트 구성\n",
    "- 들여쓰기로 수준 구분 가능\n",
    "\n",
    "예제\n",
    "- 도입부\n",
    "  1. 내용 1\n",
    "  2. 내용 2\n",
    "- 본론\n",
    "  1. 내용 3\n",
    "  2. 내용 4\n",
    "- 결론\n",
    "\n",
    "\n"
   ]
  },
  {
   "cell_type": "markdown",
   "id": "c782c4b6",
   "metadata": {},
   "source": [
    "### 링크\n",
    "- `[링크로 표시되는 글](URL)`의 형태로 작성. URL 부분을 생략하면 링크로 표시되는 글 부분이 URL로 사용됨\n",
    "- html 에서처럼 링크를 걸고 싶은 마크다운 부분에 `<a name=\"(적당한 위치 명칭)\"></a>`로 앵커를 추가한 뒤 URL 부분에 `#(위치 명칭)`을 사용하면 링크가 해당 앵커 위치를 가리키게됨\n",
    "\n",
    "예제\n",
    "- [github 링크 : 파이썬 기초 강좌](https://github.com/jsh-begas/python_basic_lecture)\n",
    "- [<https://github.com/jsh-begas/python_basic_lecture>]\n",
    "- [마크다운 문법 처음으로 돌아가기](#mdsyntax_head)"
   ]
  },
  {
   "cell_type": "markdown",
   "id": "5077ba91",
   "metadata": {},
   "source": [
    "### 이미지\n",
    "- `![그림 안들어가면 대신 표시할 문자](이미지 주소/URL)`의 형태로 작성\n",
    "- 그림을 온라인에 올리고 싶은데 적당히 업로드 할 곳이 없다면 github 사용 가능\n",
    "- 로컬 이미지 주소는 절대주소/이 ipynb 노트북 파일(혹은 조판 시점의 Python 커널의 작업 디렉토리)에 대한 상대 주소로 설정\n",
    "\n",
    "예제\n",
    "- (아랫줄의 markdown 표기 : `![python logo](https://www.python.org/static/community_logos/python-logo.png)`)\n",
    "  ![python logo](https://www.python.org/static/community_logos/python-logo.png)\n",
    "- (아랫줄의 markdown 표기 : `![없는 그림](idk.png)`\n",
    "  ![없는 그림](idk.png)"
   ]
  },
  {
   "cell_type": "markdown",
   "id": "4a11c846",
   "metadata": {},
   "source": [
    "### 코드 블럭\n",
    "- backtick 3개로 감싼 부분은 코드처럼 구분해서 보여줌\n",
    "\n",
    "예제\n",
    "```\n",
    "  print('hello world!')\n",
    "```"
   ]
  },
  {
   "cell_type": "markdown",
   "id": "f48a3f65",
   "metadata": {},
   "source": [
    "### 기타\n",
    "- 표\n",
    "| 1열 | 2열 | 3열 |\n",
    "|----|----|----|\n",
    "|A | B | C |\n",
    "- 구분선 : ---\n",
    "---\n",
    "- 인용 블럭 : 행 처음의 `>`. 인용블럭 안쪽에서 블럭 안나누고 행 바꾸기는 스페이스 2개 + 줄바꿈으로 구현\n",
    "> 인용하기.  \n",
    "> 인용하기 두번째줄.\n",
    "인용하기 이어짐.\n",
    "\n",
    "인용블럭 바깥쪽."
   ]
  },
  {
   "cell_type": "markdown",
   "id": "7c7d06bd",
   "metadata": {},
   "source": [
    "# 2. Python 기초 문법 <a href=\"ch2\"></a>"
   ]
  },
  {
   "cell_type": "markdown",
   "id": "aef51504",
   "metadata": {},
   "source": [
    "## 변수"
   ]
  },
  {
   "cell_type": "code",
   "execution_count": 1,
   "id": "bcc33548",
   "metadata": {},
   "outputs": [],
   "source": [
    "# 코드 셀에서 각 행의 샵 뒤의 부분은 주석으로 취급되며 실행되지 않음\n",
    "# 변수 할당\n",
    "x = 2 "
   ]
  },
  {
   "cell_type": "code",
   "execution_count": 2,
   "id": "ca65506e",
   "metadata": {},
   "outputs": [
    {
     "data": {
      "text/plain": [
       "2"
      ]
     },
     "execution_count": 2,
     "metadata": {},
     "output_type": "execute_result"
    }
   ],
   "source": [
    "# 각 셀을 실행한 환경은 (jupyter notebook 본체가 닫히는 등의 이유로) Python 커널이 종료되지 않는 한 유지됨\n",
    "# 곧, 앞 셀을 실행한 직후라면 x 변수에 값 2 가 저장된 환경이 유지됨\n",
    "# 변수 값 출력 (일반적으로 셀을 실행하면 각 셀의 마지막 행의 실행 결과가 항상 out 부분에 저장됨)\n",
    "x"
   ]
  },
  {
   "cell_type": "code",
   "execution_count": 3,
   "id": "3e6a370b",
   "metadata": {},
   "outputs": [
    {
     "name": "stdout",
     "output_type": "stream",
     "text": [
      "3\n"
     ]
    },
    {
     "data": {
      "text/plain": [
       "3"
      ]
     },
     "execution_count": 3,
     "metadata": {},
     "output_type": "execute_result"
    }
   ],
   "source": [
    "# print()로 셀 마지막 행의 출력이 아닌 결과도 보기\n",
    "x = 3\n",
    "print(x)\n",
    "x"
   ]
  },
  {
   "cell_type": "code",
   "execution_count": 4,
   "id": "40977d4b",
   "metadata": {},
   "outputs": [
    {
     "ename": "SyntaxError",
     "evalue": "invalid decimal literal (1976213465.py, line 2)",
     "output_type": "error",
     "traceback": [
      "\u001b[1;36m  Cell \u001b[1;32mIn[4], line 2\u001b[1;36m\u001b[0m\n\u001b[1;33m    5ri = 5\u001b[0m\n\u001b[1;37m    ^\u001b[0m\n\u001b[1;31mSyntaxError\u001b[0m\u001b[1;31m:\u001b[0m invalid decimal literal\n"
     ]
    }
   ],
   "source": [
    "# 안되는 변수명들\n",
    "5ri = 5\n",
    "and = 4\n",
    "my home = 2"
   ]
  },
  {
   "cell_type": "markdown",
   "id": "61943c87",
   "metadata": {},
   "source": [
    "## 변수 유형 - 단일"
   ]
  },
  {
   "cell_type": "code",
   "execution_count": 5,
   "id": "cc86959e",
   "metadata": {},
   "outputs": [
    {
     "name": "stdout",
     "output_type": "stream",
     "text": [
      "<class 'int'>\n",
      "<class 'float'>\n"
     ]
    }
   ],
   "source": [
    "# type 보기 : 함수 type()\n",
    "print(type(3))\n",
    "print(type(3.0))"
   ]
  },
  {
   "cell_type": "code",
   "execution_count": 6,
   "id": "dfe38cc2",
   "metadata": {},
   "outputs": [
    {
     "name": "stdout",
     "output_type": "stream",
     "text": [
      "['__abs__', '__add__', '__and__', '__bool__', '__ceil__', '__class__', '__delattr__', '__dir__', '__divmod__', '__doc__', '__eq__', '__float__', '__floor__', '__floordiv__', '__format__', '__ge__', '__getattribute__', '__getnewargs__', '__gt__', '__hash__', '__index__', '__init__', '__init_subclass__', '__int__', '__invert__', '__le__', '__lshift__', '__lt__', '__mod__', '__mul__', '__ne__', '__neg__', '__new__', '__or__', '__pos__', '__pow__', '__radd__', '__rand__', '__rdivmod__', '__reduce__', '__reduce_ex__', '__repr__', '__rfloordiv__', '__rlshift__', '__rmod__', '__rmul__', '__ror__', '__round__', '__rpow__', '__rrshift__', '__rshift__', '__rsub__', '__rtruediv__', '__rxor__', '__setattr__', '__sizeof__', '__str__', '__sub__', '__subclasshook__', '__truediv__', '__trunc__', '__xor__', 'as_integer_ratio', 'bit_count', 'bit_length', 'conjugate', 'denominator', 'from_bytes', 'imag', 'numerator', 'real', 'to_bytes']\n"
     ]
    }
   ],
   "source": [
    "# type별 혹은 객체의 메서드 보기 : dir()\n",
    "print(dir(int))\n",
    "#데이터 유형 및 객체의 메서드는 객체.메서드명의 형태로 표현\n",
    "# 함수/메서드 도움말 보기 : (함수/메서드)?\n",
    "#list.append?\n"
   ]
  },
  {
   "cell_type": "code",
   "execution_count": 7,
   "id": "6dae4606",
   "metadata": {},
   "outputs": [
    {
     "name": "stdout",
     "output_type": "stream",
     "text": [
      "<class 'int'>\n"
     ]
    }
   ],
   "source": [
    "# 정수\n",
    "print(type(0))"
   ]
  },
  {
   "cell_type": "code",
   "execution_count": 8,
   "id": "17fead41",
   "metadata": {},
   "outputs": [
    {
     "name": "stdout",
     "output_type": "stream",
     "text": [
      "<class 'float'>\n"
     ]
    }
   ],
   "source": [
    "# 부동소수점(소수)\n",
    "print(type(0.1))"
   ]
  },
  {
   "cell_type": "code",
   "execution_count": 9,
   "id": "dbc14501",
   "metadata": {},
   "outputs": [
    {
     "name": "stdout",
     "output_type": "stream",
     "text": [
      "<class 'complex'>\n"
     ]
    }
   ],
   "source": [
    "# 복소수\n",
    "print(type(1+1j))"
   ]
  },
  {
   "cell_type": "code",
   "execution_count": 10,
   "id": "87f433d0",
   "metadata": {},
   "outputs": [
    {
     "name": "stdout",
     "output_type": "stream",
     "text": [
      "<class 'bool'>\n"
     ]
    }
   ],
   "source": [
    "# 논리(참, 거짓)\n",
    "print(type(True))\n",
    "#x = TRUE #대소문자중 첫번째만 대문자인 형태로 적어야 인식됨"
   ]
  },
  {
   "cell_type": "code",
   "execution_count": 11,
   "id": "3285526c",
   "metadata": {},
   "outputs": [
    {
     "name": "stdout",
     "output_type": "stream",
     "text": [
      "<class 'str'>\n"
     ]
    },
    {
     "data": {
      "text/plain": [
       "'\\nabc\\ndef\\n'"
      ]
     },
     "execution_count": 11,
     "metadata": {},
     "output_type": "execute_result"
    }
   ],
   "source": [
    "# 문자열\n",
    "print(type('abc'))\n",
    "'''\n",
    "abc\n",
    "def\n",
    "'''"
   ]
  },
  {
   "cell_type": "markdown",
   "id": "f144ea4e",
   "metadata": {},
   "source": [
    "## 변수 유형 - 컬렉션(collection) 형"
   ]
  },
  {
   "cell_type": "code",
   "execution_count": 12,
   "id": "b31dd2b3",
   "metadata": {},
   "outputs": [
    {
     "name": "stdout",
     "output_type": "stream",
     "text": [
      "[4, [1, 'a', True]]\n"
     ]
    }
   ],
   "source": [
    "# 리스트\n",
    "my_list = [1, 'a', True]\n",
    "my_list2 = [4, my_list]\n",
    "print(my_list2)"
   ]
  },
  {
   "cell_type": "code",
   "execution_count": 13,
   "id": "84396f52",
   "metadata": {},
   "outputs": [
    {
     "name": "stdout",
     "output_type": "stream",
     "text": [
      "<class 'int'>\n",
      "<class 'tuple'>\n"
     ]
    }
   ],
   "source": [
    "# 튜플\n",
    "my_tuple = (1, 'a', True)\n",
    "print(type((1))) #이 경우 (1)은 튜플이 아니라 정수를 가리키게 됨\n",
    "print(type((1,)))"
   ]
  },
  {
   "cell_type": "code",
   "execution_count": 14,
   "id": "60698d88",
   "metadata": {},
   "outputs": [
    {
     "name": "stdout",
     "output_type": "stream",
     "text": [
      "<class 'set'>\n"
     ]
    }
   ],
   "source": [
    "# 집합(Set)\n",
    "my_set = {2,3,5}\n",
    "print(type(my_set))"
   ]
  },
  {
   "cell_type": "code",
   "execution_count": 15,
   "id": "85a9a28b",
   "metadata": {},
   "outputs": [
    {
     "name": "stdout",
     "output_type": "stream",
     "text": [
      "<class 'dict'>\n"
     ]
    }
   ],
   "source": [
    "# 딕셔너리\n",
    "my_dict = {'first':1, 'second':'a'}\n",
    "print(type(my_dict))"
   ]
  },
  {
   "cell_type": "markdown",
   "id": "b6c237fc",
   "metadata": {},
   "source": [
    "### 컬렉션형 다뤄보기\n",
    "#### 리스트"
   ]
  },
  {
   "cell_type": "code",
   "execution_count": 16,
   "id": "ce91b3be",
   "metadata": {},
   "outputs": [
    {
     "data": {
      "text/plain": [
       "[1, 2, 3, 4]"
      ]
     },
     "execution_count": 16,
     "metadata": {},
     "output_type": "execute_result"
    }
   ],
   "source": [
    "#리스트 생성\n",
    "a = [1,2,3,4]\n",
    "a"
   ]
  },
  {
   "cell_type": "code",
   "execution_count": 17,
   "id": "91b9c7af",
   "metadata": {},
   "outputs": [
    {
     "name": "stdout",
     "output_type": "stream",
     "text": [
      "[100, 2, 3, 4]\n",
      "[100, 2, 3, 4, 8]\n",
      "[2, 3, 4, 8]\n",
      "[2, 100, 3, 4, 8]\n"
     ]
    }
   ],
   "source": [
    "#부분 편집\n",
    "a[0] = 100 #항 값 변경. python의 index는 0부터 시작하며, 첫번째 항을 100으로 할당하라는 명령이 됨\n",
    "print(a)\n",
    "a.append(8) #맨 끝의 새 칸에 8 추가 \n",
    "print(a)\n",
    "a.remove(100) #일치하는 값 중 맨 앞의 것을 하나를 칸 째로 제거\n",
    "print(a)\n",
    "a.insert(1, 100) #index 1 (앞에서부터 두번째)에 값 100인 칸 하나를 추가, 뒤쪽칸은 하나씩 밀어냄\n",
    "print(a)"
   ]
  },
  {
   "cell_type": "code",
   "execution_count": 18,
   "id": "556e289d",
   "metadata": {},
   "outputs": [
    {
     "name": "stdout",
     "output_type": "stream",
     "text": [
      "[6, 1]\n",
      "[4, 6, 1]\n",
      "[4, 6]\n",
      "[4, 6, 1, 9]\n",
      "[4, 1]\n"
     ]
    }
   ],
   "source": [
    "#슬라이싱\n",
    "a=[4,6,1,9]\n",
    "print(a[1:3]) #index 1부터 3까지(항상 오른쪽 끝점은 제외), 1칸씩 선택\n",
    "print(a[:3]) #index 0(기본값)부터 3까지, 1칸씩 선택\n",
    "print(a[:-2]) #index 0부터 -2=3까지, 1칸씩 선택 (음의 index는 마지막 -1부터 -2, .... 오른쪽 끝이 -1이며 왼쪽으로 갈수록 감소.)\n",
    "print(a[:]) #전체 선택\n",
    "print(a[::2]) #index 2칸마다 선택"
   ]
  },
  {
   "cell_type": "code",
   "execution_count": 19,
   "id": "64200846",
   "metadata": {},
   "outputs": [
    {
     "data": {
      "text/plain": [
       "[4, 6, 1, 9, 1, 3, 5]"
      ]
     },
     "execution_count": 19,
     "metadata": {},
     "output_type": "execute_result"
    }
   ],
   "source": [
    "[1,3] + [2,4] #이어 붙이기\n",
    "c = [1,3,5]\n",
    "a + c"
   ]
  },
  {
   "cell_type": "code",
   "execution_count": 20,
   "id": "6d3995a2",
   "metadata": {},
   "outputs": [
    {
     "name": "stdout",
     "output_type": "stream",
     "text": [
      "[6, 1, 9]\n",
      "[6]\n"
     ]
    }
   ],
   "source": [
    "del a[0] #0번째 성분 제거\n",
    "print(a)\n",
    "del a[1:3] #index 1부터 3까지 제거\n",
    "print(a)\n",
    "del a #변수 제거\n",
    "#print(a) #변수가 없어서 오류"
   ]
  },
  {
   "cell_type": "markdown",
   "id": "ee585913",
   "metadata": {},
   "source": [
    "#### 튜플"
   ]
  },
  {
   "cell_type": "code",
   "execution_count": 21,
   "id": "c525456c",
   "metadata": {},
   "outputs": [],
   "source": [
    "t = (1,3)\n",
    "#t[2] = 3 #오류 발생"
   ]
  },
  {
   "cell_type": "markdown",
   "id": "ec00f458",
   "metadata": {},
   "source": [
    "#### 집합(set)"
   ]
  },
  {
   "cell_type": "code",
   "execution_count": 22,
   "id": "43825de1",
   "metadata": {},
   "outputs": [
    {
     "data": {
      "text/plain": [
       "{1, 2, 3}"
      ]
     },
     "execution_count": 22,
     "metadata": {},
     "output_type": "execute_result"
    }
   ],
   "source": [
    "set1 = {1,2,3,3} #정의할 때 중복되어도 되나, 집합 상에서는 중복값이 제거됨\n",
    "set1"
   ]
  },
  {
   "cell_type": "code",
   "execution_count": 23,
   "id": "bd989a29",
   "metadata": {},
   "outputs": [],
   "source": [
    "set2 = {3,4,5,6}"
   ]
  },
  {
   "cell_type": "code",
   "execution_count": 24,
   "id": "2c2dfcd1",
   "metadata": {},
   "outputs": [
    {
     "name": "stdout",
     "output_type": "stream",
     "text": [
      "{3}\n",
      "{1, 2, 3, 4, 5, 6}\n",
      "{1, 2}\n",
      "{1, 2, 4, 5, 6}\n"
     ]
    }
   ],
   "source": [
    "#집합 연산들\n",
    "print(set1.intersection(set2)) #혹은 set1&set2, 교집합\n",
    "print(set1.union(set2))  #혹은 set1|set2, 합집합\n",
    "print(set1.difference(set2)) #혹은 set1-set2, 차집합\n",
    "print(set1.symmetric_difference(set2)) #대칭차집합"
   ]
  },
  {
   "cell_type": "markdown",
   "id": "ac62d293",
   "metadata": {},
   "source": [
    "#### 딕셔너리\n",
    "- 각 성분은 key:value 구조로 구성"
   ]
  },
  {
   "cell_type": "code",
   "execution_count": 25,
   "id": "b3d14cbd",
   "metadata": {},
   "outputs": [
    {
     "data": {
      "text/plain": [
       "{'영국': '런던', '호주': '멜버른', '덴마크': '코펜하겐'}"
      ]
     },
     "execution_count": 25,
     "metadata": {},
     "output_type": "execute_result"
    }
   ],
   "source": [
    "country_capital = {'영국':'런던','호주':'멜버른','덴마크':'코펜하겐'}\n",
    "country_capital"
   ]
  },
  {
   "cell_type": "code",
   "execution_count": 26,
   "id": "bc068c3f",
   "metadata": {},
   "outputs": [
    {
     "name": "stdout",
     "output_type": "stream",
     "text": [
      "{'영국': '런던', '호주': '멜버른', '덴마크': '코펜하겐', '독일': '베를린'}\n",
      "{'영국': '런던', '호주': '멜버른', '덴마크': '코펜하겐'}\n",
      "{'영국': '런던', '호주': '멜버른', '덴마크': '코펜하겐', '한국': '서울', '미국': '뉴욕', '독일': 'berlin'}\n",
      "{}\n"
     ]
    }
   ],
   "source": [
    "#부분 편집\n",
    "country_capital['독일'] = '베를린' #기존 key의 value 변경/새 key-value 추가\n",
    "print(country_capital)\n",
    "del country_capital['독일'] #key-value 제거\n",
    "print(country_capital)\n",
    "#업데이트 : 다른 딕셔너리로부터 겹치는 key-value는 value를 업데이트, 안겹치는 key-value는 새로 추가\n",
    "country_capital_add = {'한국':'서울','미국':'뉴욕', '독일':'berlin'}\n",
    "country_capital.update(country_capital_add)\n",
    "print(country_capital)\n",
    "#비우기\n",
    "country_capital.clear()\n",
    "print(country_capital)"
   ]
  },
  {
   "cell_type": "code",
   "execution_count": 27,
   "id": "9b91a3e1",
   "metadata": {},
   "outputs": [
    {
     "name": "stdout",
     "output_type": "stream",
     "text": [
      "dict_keys([])\n",
      "dict_values([])\n",
      "dict_items([])\n",
      "[]\n"
     ]
    }
   ],
   "source": [
    "#부분 출력(key, value)\n",
    "print(country_capital.keys()) #key만 \n",
    "print(country_capital.values()) #value만\n",
    "print(country_capital.items()) #쌍으로 (길이 2 튜플)\n",
    "print(list(country_capital.keys())) #list()를 이용해서 리스트로 변환"
   ]
  },
  {
   "cell_type": "markdown",
   "id": "f2720527",
   "metadata": {},
   "source": [
    "\n",
    "## 제어문"
   ]
  },
  {
   "cell_type": "markdown",
   "id": "22750a9f",
   "metadata": {},
   "source": [
    "### 조건을 검사할 때 사용할 수 있는 연산자 : 비교연산자, 논리연산자"
   ]
  },
  {
   "cell_type": "code",
   "execution_count": 28,
   "id": "7e8b1e52",
   "metadata": {},
   "outputs": [
    {
     "name": "stdout",
     "output_type": "stream",
     "text": [
      "False\n",
      "True\n",
      "True\n",
      "False\n",
      "False\n",
      "True\n",
      "False\n"
     ]
    }
   ],
   "source": [
    "#비교연산자\n",
    "a = 3\n",
    "print(a == 4)\n",
    "print(a != 4)\n",
    "print(a <  4)\n",
    "print(a >= 4)\n",
    "#논리연산자\n",
    "b = 4\n",
    "print(a == 3 and b == 3) \n",
    "print(a == 3 or b == 3)\n",
    "print(not a == 3)"
   ]
  },
  {
   "cell_type": "markdown",
   "id": "1c6fbdf6",
   "metadata": {},
   "source": [
    "### 조건문 (if ~ elif ~ else)\n",
    "- 조건문/반복문의 선언 끝에는 콜론(:)을 붙임\n",
    "- 조건문/반복문으로 분기되어 실행되는 하위 블럭은 들여쓰기로 구분"
   ]
  },
  {
   "cell_type": "code",
   "execution_count": 29,
   "id": "8c7e5601",
   "metadata": {},
   "outputs": [],
   "source": [
    "#단일 조건 분기 (if)\n",
    "x = 10\n",
    "if x > 90: #거짓임 -> 하위 블럭 전체 뛰어넘음\n",
    "    print(\"90보다 크다\")"
   ]
  },
  {
   "cell_type": "code",
   "execution_count": 30,
   "id": "5946812b",
   "metadata": {},
   "outputs": [
    {
     "name": "stdout",
     "output_type": "stream",
     "text": [
      "90보다 작다\n"
     ]
    }
   ],
   "source": [
    "x = 10\n",
    "if x < 90: #참임 -> 하위 블럭 실행\n",
    "    print(\"90보다 작다\")"
   ]
  },
  {
   "cell_type": "code",
   "execution_count": 31,
   "id": "7eb0c096",
   "metadata": {},
   "outputs": [
    {
     "name": "stdout",
     "output_type": "stream",
     "text": [
      "90보다 작거나 같다\n"
     ]
    }
   ],
   "source": [
    "#단일 조건 vs 그 외 조건으로 분기 (if ~ else)\n",
    "x = 10\n",
    "if x > 90: #거짓\n",
    "    print(\"90보다 크다\")\n",
    "else : #위 조건이 전부 거짓이면 실행 \n",
    "    print(\"90보다 작거나 같다\")"
   ]
  },
  {
   "cell_type": "code",
   "execution_count": 32,
   "id": "8c2a46c2",
   "metadata": {},
   "outputs": [
    {
     "name": "stdout",
     "output_type": "stream",
     "text": [
      "해당 없음\n"
     ]
    }
   ],
   "source": [
    "#여러 조건 분기 (if ~ elif (~ else))\n",
    "x = 90\n",
    "if x > 90:\n",
    "    print(\"90보다 크다\")\n",
    "elif x < 90: #윗 조건문이 거짓이면 판정 시도해서 실행여부 결정\n",
    "    print(\"90보다 작다\")\n",
    "else : #윗 조건문이 전부 거짓이면 실행\n",
    "    print('해당 없음')"
   ]
  },
  {
   "cell_type": "markdown",
   "id": "bbb52f3d",
   "metadata": {},
   "source": [
    "### 반복문 (for, while)\n",
    "- for 문은 반복 변수를 지정한 컬랙션의 원소 목록에서 순서대로 변화시켜가면서 반복 실행\n",
    "- while 문은 조건이 참인 한 반복 실행"
   ]
  },
  {
   "cell_type": "code",
   "execution_count": 33,
   "id": "6ed5167e",
   "metadata": {},
   "outputs": [
    {
     "name": "stdout",
     "output_type": "stream",
     "text": [
      "x1\n",
      "x2\n"
     ]
    }
   ],
   "source": [
    "#for 문\n",
    "for x in ['x1','x2']:\n",
    "    print(x)"
   ]
  },
  {
   "cell_type": "code",
   "execution_count": 34,
   "id": "1f5a860c",
   "metadata": {},
   "outputs": [
    {
     "name": "stdout",
     "output_type": "stream",
     "text": [
      "x1 y1\n",
      "x1 y2\n",
      "x2 y1\n",
      "x2 y2\n"
     ]
    }
   ],
   "source": [
    "#중첩 for 문\n",
    "for x in ['x1','x2']:\n",
    "    for y in ['y1','y2']:\n",
    "        print(x, y)"
   ]
  },
  {
   "cell_type": "code",
   "execution_count": 35,
   "id": "92c4a151",
   "metadata": {},
   "outputs": [
    {
     "name": "stdout",
     "output_type": "stream",
     "text": [
      "6\n",
      "21\n"
     ]
    }
   ],
   "source": [
    "#while 문\n",
    "i = 0\n",
    "sum = 0\n",
    "while(sum < 20): #처음 이 행에 진입했을때 조건이 참이면 하위 블럭 실행\n",
    "    i = i + 1\n",
    "    sum = sum + i #하위 블럭의 실행이 끝나면 다시 while 판정 행으로 이동\n",
    "#위 블럭은 sum이 20보다 작은 한 계속 실행됨\n",
    "    \n",
    "print(i)\n",
    "print(sum)"
   ]
  },
  {
   "cell_type": "markdown",
   "id": "1a49f0d5",
   "metadata": {},
   "source": [
    "#### 반복문 제어 키워드\n",
    "- break가 실행되면 반복문 전체의 실행을 중단하고 하위 블럭의 종료시점 뒤로 이동\n",
    "- continue가 실행되면 현재 반복 부분의 실행을 중단하고 다음 반복 실행 : while은 바로 판정행 이동, for는 현재 반복변수 값 실행을 멈추고 다음 반복변수 값에서 실행 시작"
   ]
  },
  {
   "cell_type": "code",
   "execution_count": 36,
   "id": "2328c7bf",
   "metadata": {},
   "outputs": [
    {
     "name": "stdout",
     "output_type": "stream",
     "text": [
      "1\n",
      "2\n"
     ]
    }
   ],
   "source": [
    "#break\n",
    "i = 0\n",
    "\n",
    "while(i < 5):\n",
    "    i = i + 1\n",
    "    if i == 3:\n",
    "        break #i = 3일때 break가 실행\n",
    "    print(i)\n",
    "\n",
    "#break가 실행 되면 바로 여기로 이동 : i = 2까지만 print됨\n",
    " "
   ]
  },
  {
   "cell_type": "code",
   "execution_count": 37,
   "id": "b0a74dae",
   "metadata": {},
   "outputs": [
    {
     "name": "stdout",
     "output_type": "stream",
     "text": [
      "1\n",
      "2\n",
      "4\n",
      "5\n"
     ]
    }
   ],
   "source": [
    "#continue\n",
    "i = 0\n",
    "\n",
    "while(i < 5): #continue가 실행되면 바로 여기로 이동\n",
    "    i = i + 1\n",
    "    if i == 3:\n",
    "        continue #i = 3일때 continue가 실행\n",
    "    print(i) #i = 3일때만 이 행이 실행되지 못함\n"
   ]
  },
  {
   "cell_type": "markdown",
   "id": "db334c99",
   "metadata": {},
   "source": [
    "## 함수의 정의 및 호출\n",
    "- 함수 선언시 구조는 \n",
    "def 함수명(항1, 항2, ...):\n",
    "    <함수 코드>\n",
    "의 형태\n",
    "- 함수 안의 코드를 실행할 때 사용한 각 변수의 값을 결정할 때, 항으로부터 우선적으로 값을 가져오고, 항으로 정의되지 않은 변수는 함수 범위 밖에서의 값을 참조 (항의 이름과 변수명은 가급적 섞어쓰지 않는 것이 코딩할 때 덜 햇갈림)"
   ]
  },
  {
   "cell_type": "code",
   "execution_count": 38,
   "id": "5a1fc683",
   "metadata": {},
   "outputs": [],
   "source": [
    "w = 3\n",
    "x = 4\n",
    "def my_function(x,y,z):\n",
    "    return(x+y+z / w) \n",
    "#항에 없는 변수 w는 실행 당시 함수 코드 밖에서 정의되어 있는 값 w=3을 참조하며, 그 값이 바뀌면 계산에도 반영됨\n",
    "#항에 있는 변수 x는 함수 코드 밖에 정의된 x=4를 무시하고 항으로 입력된 값으로 계산"
   ]
  },
  {
   "cell_type": "code",
   "execution_count": 39,
   "id": "b1bafe42",
   "metadata": {},
   "outputs": [
    {
     "data": {
      "text/plain": [
       "8.666666666666666"
      ]
     },
     "execution_count": 39,
     "metadata": {},
     "output_type": "execute_result"
    }
   ],
   "source": [
    "#호출시 항의 이름을 명시하지 않으면, 정의할 때의 순서대로 값을 대응 시킴.\n",
    "my_function(3,4,5) #my_function(x=3,y=4,z=5)와 동일"
   ]
  },
  {
   "cell_type": "markdown",
   "id": "a5171b2a",
   "metadata": {},
   "source": [
    "# 3. 데이터 핸들링(pandas 기반)\n",
    "csv 파일들은 [<https://github.com/jsh-begas/python_basic_lecture>] 에서 받을수 있음"
   ]
  },
  {
   "cell_type": "code",
   "execution_count": 40,
   "id": "843bb2fb",
   "metadata": {},
   "outputs": [],
   "source": [
    "# 패키지 불러오기 : import문 \n",
    "import pandas as pd\n",
    "import numpy as np\n",
    "import os"
   ]
  },
  {
   "cell_type": "code",
   "execution_count": 41,
   "id": "d8318d92",
   "metadata": {},
   "outputs": [],
   "source": [
    "#csv 파일이 있는 위치를 가리키도록 설정\n",
    "dat_path = '.'\n",
    "os.chdir(dat_path)"
   ]
  },
  {
   "cell_type": "markdown",
   "id": "f5832791",
   "metadata": {},
   "source": [
    "## csv 자료 python에 불러오기"
   ]
  },
  {
   "cell_type": "code",
   "execution_count": 42,
   "id": "98a94043",
   "metadata": {},
   "outputs": [
    {
     "data": {
      "text/html": [
       "<div>\n",
       "<style scoped>\n",
       "    .dataframe tbody tr th:only-of-type {\n",
       "        vertical-align: middle;\n",
       "    }\n",
       "\n",
       "    .dataframe tbody tr th {\n",
       "        vertical-align: top;\n",
       "    }\n",
       "\n",
       "    .dataframe thead th {\n",
       "        text-align: right;\n",
       "    }\n",
       "</style>\n",
       "<table border=\"1\" class=\"dataframe\">\n",
       "  <thead>\n",
       "    <tr style=\"text-align: right;\">\n",
       "      <th></th>\n",
       "      <th>a</th>\n",
       "      <th>b</th>\n",
       "      <th>c</th>\n",
       "      <th>d</th>\n",
       "      <th>message</th>\n",
       "    </tr>\n",
       "  </thead>\n",
       "  <tbody>\n",
       "    <tr>\n",
       "      <th>0</th>\n",
       "      <td>1</td>\n",
       "      <td>2</td>\n",
       "      <td>3</td>\n",
       "      <td>4</td>\n",
       "      <td>hello</td>\n",
       "    </tr>\n",
       "    <tr>\n",
       "      <th>1</th>\n",
       "      <td>5</td>\n",
       "      <td>6</td>\n",
       "      <td>7</td>\n",
       "      <td>8</td>\n",
       "      <td>world</td>\n",
       "    </tr>\n",
       "    <tr>\n",
       "      <th>2</th>\n",
       "      <td>9</td>\n",
       "      <td>10</td>\n",
       "      <td>11</td>\n",
       "      <td>12</td>\n",
       "      <td>foo</td>\n",
       "    </tr>\n",
       "  </tbody>\n",
       "</table>\n",
       "</div>"
      ],
      "text/plain": [
       "   a   b   c   d message\n",
       "0  1   2   3   4   hello\n",
       "1  5   6   7   8   world\n",
       "2  9  10  11  12     foo"
      ]
     },
     "execution_count": 42,
     "metadata": {},
     "output_type": "execute_result"
    }
   ],
   "source": [
    "df = pd.read_csv('ex1.csv')\n",
    "df"
   ]
  },
  {
   "cell_type": "code",
   "execution_count": 43,
   "id": "d4fee340",
   "metadata": {},
   "outputs": [
    {
     "data": {
      "text/html": [
       "<div>\n",
       "<style scoped>\n",
       "    .dataframe tbody tr th:only-of-type {\n",
       "        vertical-align: middle;\n",
       "    }\n",
       "\n",
       "    .dataframe tbody tr th {\n",
       "        vertical-align: top;\n",
       "    }\n",
       "\n",
       "    .dataframe thead th {\n",
       "        text-align: right;\n",
       "    }\n",
       "</style>\n",
       "<table border=\"1\" class=\"dataframe\">\n",
       "  <thead>\n",
       "    <tr style=\"text-align: right;\">\n",
       "      <th></th>\n",
       "      <th>a</th>\n",
       "      <th>b</th>\n",
       "      <th>c</th>\n",
       "      <th>d</th>\n",
       "      <th>message</th>\n",
       "    </tr>\n",
       "  </thead>\n",
       "  <tbody>\n",
       "    <tr>\n",
       "      <th>0</th>\n",
       "      <td>1</td>\n",
       "      <td>2</td>\n",
       "      <td>3</td>\n",
       "      <td>4</td>\n",
       "      <td>hello</td>\n",
       "    </tr>\n",
       "    <tr>\n",
       "      <th>1</th>\n",
       "      <td>5</td>\n",
       "      <td>6</td>\n",
       "      <td>7</td>\n",
       "      <td>8</td>\n",
       "      <td>world</td>\n",
       "    </tr>\n",
       "    <tr>\n",
       "      <th>2</th>\n",
       "      <td>9</td>\n",
       "      <td>10</td>\n",
       "      <td>11</td>\n",
       "      <td>12</td>\n",
       "      <td>foo</td>\n",
       "    </tr>\n",
       "  </tbody>\n",
       "</table>\n",
       "</div>"
      ],
      "text/plain": [
       "   a   b   c   d message\n",
       "0  1   2   3   4   hello\n",
       "1  5   6   7   8   world\n",
       "2  9  10  11  12     foo"
      ]
     },
     "execution_count": 43,
     "metadata": {},
     "output_type": "execute_result"
    }
   ],
   "source": [
    "pd.read_table('ex1.csv', sep = ',')"
   ]
  },
  {
   "cell_type": "code",
   "execution_count": 44,
   "id": "374725a6",
   "metadata": {},
   "outputs": [
    {
     "data": {
      "text/plain": [
       "a           int64\n",
       "b           int64\n",
       "c           int64\n",
       "d           int64\n",
       "message    object\n",
       "dtype: object"
      ]
     },
     "execution_count": 44,
     "metadata": {},
     "output_type": "execute_result"
    }
   ],
   "source": [
    "df.dtypes"
   ]
  },
  {
   "cell_type": "code",
   "execution_count": 45,
   "id": "0a07a362",
   "metadata": {},
   "outputs": [
    {
     "data": {
      "text/html": [
       "<div>\n",
       "<style scoped>\n",
       "    .dataframe tbody tr th:only-of-type {\n",
       "        vertical-align: middle;\n",
       "    }\n",
       "\n",
       "    .dataframe tbody tr th {\n",
       "        vertical-align: top;\n",
       "    }\n",
       "\n",
       "    .dataframe thead th {\n",
       "        text-align: right;\n",
       "    }\n",
       "</style>\n",
       "<table border=\"1\" class=\"dataframe\">\n",
       "  <thead>\n",
       "    <tr style=\"text-align: right;\">\n",
       "      <th></th>\n",
       "      <th>a</th>\n",
       "      <th>b</th>\n",
       "      <th>c</th>\n",
       "      <th>d</th>\n",
       "      <th>message</th>\n",
       "    </tr>\n",
       "  </thead>\n",
       "  <tbody>\n",
       "    <tr>\n",
       "      <th>0</th>\n",
       "      <td>1</td>\n",
       "      <td>2</td>\n",
       "      <td>3</td>\n",
       "      <td>4</td>\n",
       "      <td>hello</td>\n",
       "    </tr>\n",
       "    <tr>\n",
       "      <th>1</th>\n",
       "      <td>5</td>\n",
       "      <td>6</td>\n",
       "      <td>7</td>\n",
       "      <td>8</td>\n",
       "      <td>world</td>\n",
       "    </tr>\n",
       "    <tr>\n",
       "      <th>2</th>\n",
       "      <td>9</td>\n",
       "      <td>10</td>\n",
       "      <td>11</td>\n",
       "      <td>12</td>\n",
       "      <td>foo</td>\n",
       "    </tr>\n",
       "  </tbody>\n",
       "</table>\n",
       "</div>"
      ],
      "text/plain": [
       "   a   b   c   d message\n",
       "0  1   2   3   4   hello\n",
       "1  5   6   7   8   world\n",
       "2  9  10  11  12     foo"
      ]
     },
     "execution_count": 45,
     "metadata": {},
     "output_type": "execute_result"
    }
   ],
   "source": [
    "pd.read_csv('ex1.csv')"
   ]
  },
  {
   "cell_type": "code",
   "execution_count": 46,
   "id": "9f7de8a3",
   "metadata": {},
   "outputs": [
    {
     "data": {
      "text/html": [
       "<div>\n",
       "<style scoped>\n",
       "    .dataframe tbody tr th:only-of-type {\n",
       "        vertical-align: middle;\n",
       "    }\n",
       "\n",
       "    .dataframe tbody tr th {\n",
       "        vertical-align: top;\n",
       "    }\n",
       "\n",
       "    .dataframe thead th {\n",
       "        text-align: right;\n",
       "    }\n",
       "</style>\n",
       "<table border=\"1\" class=\"dataframe\">\n",
       "  <thead>\n",
       "    <tr style=\"text-align: right;\">\n",
       "      <th></th>\n",
       "      <th>0</th>\n",
       "      <th>1</th>\n",
       "      <th>2</th>\n",
       "      <th>3</th>\n",
       "      <th>4</th>\n",
       "    </tr>\n",
       "  </thead>\n",
       "  <tbody>\n",
       "    <tr>\n",
       "      <th>0</th>\n",
       "      <td>a</td>\n",
       "      <td>b</td>\n",
       "      <td>c</td>\n",
       "      <td>d</td>\n",
       "      <td>message</td>\n",
       "    </tr>\n",
       "    <tr>\n",
       "      <th>1</th>\n",
       "      <td>1</td>\n",
       "      <td>2</td>\n",
       "      <td>3</td>\n",
       "      <td>4</td>\n",
       "      <td>hello</td>\n",
       "    </tr>\n",
       "    <tr>\n",
       "      <th>2</th>\n",
       "      <td>5</td>\n",
       "      <td>6</td>\n",
       "      <td>7</td>\n",
       "      <td>8</td>\n",
       "      <td>world</td>\n",
       "    </tr>\n",
       "    <tr>\n",
       "      <th>3</th>\n",
       "      <td>9</td>\n",
       "      <td>10</td>\n",
       "      <td>11</td>\n",
       "      <td>12</td>\n",
       "      <td>foo</td>\n",
       "    </tr>\n",
       "  </tbody>\n",
       "</table>\n",
       "</div>"
      ],
      "text/plain": [
       "   0   1   2   3        4\n",
       "0  a   b   c   d  message\n",
       "1  1   2   3   4    hello\n",
       "2  5   6   7   8    world\n",
       "3  9  10  11  12      foo"
      ]
     },
     "execution_count": 46,
     "metadata": {},
     "output_type": "execute_result"
    }
   ],
   "source": [
    "# 데이터 불러오기 함수의 컬럼명 관련 설정들\n",
    "pd.read_csv('ex1.csv', header=None)"
   ]
  },
  {
   "cell_type": "code",
   "execution_count": 47,
   "id": "43647bfd",
   "metadata": {},
   "outputs": [
    {
     "data": {
      "text/html": [
       "<div>\n",
       "<style scoped>\n",
       "    .dataframe tbody tr th:only-of-type {\n",
       "        vertical-align: middle;\n",
       "    }\n",
       "\n",
       "    .dataframe tbody tr th {\n",
       "        vertical-align: top;\n",
       "    }\n",
       "\n",
       "    .dataframe thead th {\n",
       "        text-align: right;\n",
       "    }\n",
       "</style>\n",
       "<table border=\"1\" class=\"dataframe\">\n",
       "  <thead>\n",
       "    <tr style=\"text-align: right;\">\n",
       "      <th></th>\n",
       "      <th>c1</th>\n",
       "      <th>c2</th>\n",
       "      <th>c3</th>\n",
       "      <th>c4</th>\n",
       "      <th>m</th>\n",
       "    </tr>\n",
       "  </thead>\n",
       "  <tbody>\n",
       "    <tr>\n",
       "      <th>0</th>\n",
       "      <td>a</td>\n",
       "      <td>b</td>\n",
       "      <td>c</td>\n",
       "      <td>d</td>\n",
       "      <td>message</td>\n",
       "    </tr>\n",
       "    <tr>\n",
       "      <th>1</th>\n",
       "      <td>1</td>\n",
       "      <td>2</td>\n",
       "      <td>3</td>\n",
       "      <td>4</td>\n",
       "      <td>hello</td>\n",
       "    </tr>\n",
       "    <tr>\n",
       "      <th>2</th>\n",
       "      <td>5</td>\n",
       "      <td>6</td>\n",
       "      <td>7</td>\n",
       "      <td>8</td>\n",
       "      <td>world</td>\n",
       "    </tr>\n",
       "    <tr>\n",
       "      <th>3</th>\n",
       "      <td>9</td>\n",
       "      <td>10</td>\n",
       "      <td>11</td>\n",
       "      <td>12</td>\n",
       "      <td>foo</td>\n",
       "    </tr>\n",
       "  </tbody>\n",
       "</table>\n",
       "</div>"
      ],
      "text/plain": [
       "  c1  c2  c3  c4        m\n",
       "0  a   b   c   d  message\n",
       "1  1   2   3   4    hello\n",
       "2  5   6   7   8    world\n",
       "3  9  10  11  12      foo"
      ]
     },
     "execution_count": 47,
     "metadata": {},
     "output_type": "execute_result"
    }
   ],
   "source": [
    "pd.read_csv('ex1.csv', names=['c1','c2','c3','c4','m'])"
   ]
  },
  {
   "cell_type": "code",
   "execution_count": 48,
   "id": "d4b26415",
   "metadata": {},
   "outputs": [
    {
     "data": {
      "text/html": [
       "<div>\n",
       "<style scoped>\n",
       "    .dataframe tbody tr th:only-of-type {\n",
       "        vertical-align: middle;\n",
       "    }\n",
       "\n",
       "    .dataframe tbody tr th {\n",
       "        vertical-align: top;\n",
       "    }\n",
       "\n",
       "    .dataframe thead th {\n",
       "        text-align: right;\n",
       "    }\n",
       "</style>\n",
       "<table border=\"1\" class=\"dataframe\">\n",
       "  <thead>\n",
       "    <tr style=\"text-align: right;\">\n",
       "      <th></th>\n",
       "      <th>a</th>\n",
       "      <th>b</th>\n",
       "      <th>c</th>\n",
       "      <th>d</th>\n",
       "    </tr>\n",
       "    <tr>\n",
       "      <th>message</th>\n",
       "      <th></th>\n",
       "      <th></th>\n",
       "      <th></th>\n",
       "      <th></th>\n",
       "    </tr>\n",
       "  </thead>\n",
       "  <tbody>\n",
       "    <tr>\n",
       "      <th>hello</th>\n",
       "      <td>1</td>\n",
       "      <td>2</td>\n",
       "      <td>3</td>\n",
       "      <td>4</td>\n",
       "    </tr>\n",
       "    <tr>\n",
       "      <th>world</th>\n",
       "      <td>5</td>\n",
       "      <td>6</td>\n",
       "      <td>7</td>\n",
       "      <td>8</td>\n",
       "    </tr>\n",
       "    <tr>\n",
       "      <th>foo</th>\n",
       "      <td>9</td>\n",
       "      <td>10</td>\n",
       "      <td>11</td>\n",
       "      <td>12</td>\n",
       "    </tr>\n",
       "  </tbody>\n",
       "</table>\n",
       "</div>"
      ],
      "text/plain": [
       "         a   b   c   d\n",
       "message               \n",
       "hello    1   2   3   4\n",
       "world    5   6   7   8\n",
       "foo      9  10  11  12"
      ]
     },
     "execution_count": 48,
     "metadata": {},
     "output_type": "execute_result"
    }
   ],
   "source": [
    "df = pd.read_csv('ex1.csv', index_col='message')\n",
    "df"
   ]
  },
  {
   "cell_type": "code",
   "execution_count": 49,
   "id": "baad7e41",
   "metadata": {},
   "outputs": [
    {
     "data": {
      "text/html": [
       "<div>\n",
       "<style scoped>\n",
       "    .dataframe tbody tr th:only-of-type {\n",
       "        vertical-align: middle;\n",
       "    }\n",
       "\n",
       "    .dataframe tbody tr th {\n",
       "        vertical-align: top;\n",
       "    }\n",
       "\n",
       "    .dataframe thead th {\n",
       "        text-align: right;\n",
       "    }\n",
       "</style>\n",
       "<table border=\"1\" class=\"dataframe\">\n",
       "  <thead>\n",
       "    <tr style=\"text-align: right;\">\n",
       "      <th></th>\n",
       "      <th>a</th>\n",
       "      <th>b</th>\n",
       "      <th>c</th>\n",
       "      <th>d</th>\n",
       "    </tr>\n",
       "    <tr>\n",
       "      <th>message</th>\n",
       "      <th></th>\n",
       "      <th></th>\n",
       "      <th></th>\n",
       "      <th></th>\n",
       "    </tr>\n",
       "  </thead>\n",
       "  <tbody>\n",
       "    <tr>\n",
       "      <th>hello</th>\n",
       "      <td>1</td>\n",
       "      <td>2</td>\n",
       "      <td>3</td>\n",
       "      <td>4</td>\n",
       "    </tr>\n",
       "  </tbody>\n",
       "</table>\n",
       "</div>"
      ],
      "text/plain": [
       "         a  b  c  d\n",
       "message            \n",
       "hello    1  2  3  4"
      ]
     },
     "execution_count": 49,
     "metadata": {},
     "output_type": "execute_result"
    }
   ],
   "source": [
    "df.loc[['hello'],:]"
   ]
  },
  {
   "cell_type": "markdown",
   "id": "7c0a906e",
   "metadata": {},
   "source": [
    "## pandas dataframe csv 자료로 출력하기"
   ]
  },
  {
   "cell_type": "code",
   "execution_count": 50,
   "id": "5cc39bc3",
   "metadata": {},
   "outputs": [
    {
     "data": {
      "text/html": [
       "<div>\n",
       "<style scoped>\n",
       "    .dataframe tbody tr th:only-of-type {\n",
       "        vertical-align: middle;\n",
       "    }\n",
       "\n",
       "    .dataframe tbody tr th {\n",
       "        vertical-align: top;\n",
       "    }\n",
       "\n",
       "    .dataframe thead th {\n",
       "        text-align: right;\n",
       "    }\n",
       "</style>\n",
       "<table border=\"1\" class=\"dataframe\">\n",
       "  <thead>\n",
       "    <tr style=\"text-align: right;\">\n",
       "      <th></th>\n",
       "      <th>something</th>\n",
       "      <th>a</th>\n",
       "      <th>b</th>\n",
       "      <th>c</th>\n",
       "      <th>d</th>\n",
       "      <th>message</th>\n",
       "    </tr>\n",
       "  </thead>\n",
       "  <tbody>\n",
       "    <tr>\n",
       "      <th>0</th>\n",
       "      <td>one</td>\n",
       "      <td>1</td>\n",
       "      <td>2</td>\n",
       "      <td>3.0</td>\n",
       "      <td>4</td>\n",
       "      <td>NaN</td>\n",
       "    </tr>\n",
       "    <tr>\n",
       "      <th>1</th>\n",
       "      <td>two</td>\n",
       "      <td>5</td>\n",
       "      <td>6</td>\n",
       "      <td>NaN</td>\n",
       "      <td>8</td>\n",
       "      <td>world</td>\n",
       "    </tr>\n",
       "    <tr>\n",
       "      <th>2</th>\n",
       "      <td>three</td>\n",
       "      <td>9</td>\n",
       "      <td>10</td>\n",
       "      <td>11.0</td>\n",
       "      <td>12</td>\n",
       "      <td>foo</td>\n",
       "    </tr>\n",
       "  </tbody>\n",
       "</table>\n",
       "</div>"
      ],
      "text/plain": [
       "  something   a   b     c   d  message\n",
       "0       one   1   2   3.0   4      NaN\n",
       "1       two   5   6   NaN   8    world\n",
       "2     three   9  10  11.0  12      foo"
      ]
     },
     "execution_count": 50,
     "metadata": {},
     "output_type": "execute_result"
    }
   ],
   "source": [
    "data = pd.read_csv('ex2.csv')\n",
    "data"
   ]
  },
  {
   "cell_type": "code",
   "execution_count": 51,
   "id": "44139a0a",
   "metadata": {},
   "outputs": [
    {
     "data": {
      "text/html": [
       "<div>\n",
       "<style scoped>\n",
       "    .dataframe tbody tr th:only-of-type {\n",
       "        vertical-align: middle;\n",
       "    }\n",
       "\n",
       "    .dataframe tbody tr th {\n",
       "        vertical-align: top;\n",
       "    }\n",
       "\n",
       "    .dataframe thead th {\n",
       "        text-align: right;\n",
       "    }\n",
       "</style>\n",
       "<table border=\"1\" class=\"dataframe\">\n",
       "  <thead>\n",
       "    <tr style=\"text-align: right;\">\n",
       "      <th></th>\n",
       "      <th>Unnamed: 0</th>\n",
       "      <th>something</th>\n",
       "      <th>a</th>\n",
       "      <th>b</th>\n",
       "      <th>c</th>\n",
       "      <th>d</th>\n",
       "      <th>message</th>\n",
       "    </tr>\n",
       "  </thead>\n",
       "  <tbody>\n",
       "    <tr>\n",
       "      <th>0</th>\n",
       "      <td>0</td>\n",
       "      <td>one</td>\n",
       "      <td>1</td>\n",
       "      <td>2</td>\n",
       "      <td>3.0</td>\n",
       "      <td>4</td>\n",
       "      <td>NaN</td>\n",
       "    </tr>\n",
       "    <tr>\n",
       "      <th>1</th>\n",
       "      <td>1</td>\n",
       "      <td>two</td>\n",
       "      <td>5</td>\n",
       "      <td>6</td>\n",
       "      <td>NaN</td>\n",
       "      <td>8</td>\n",
       "      <td>world</td>\n",
       "    </tr>\n",
       "    <tr>\n",
       "      <th>2</th>\n",
       "      <td>2</td>\n",
       "      <td>three</td>\n",
       "      <td>9</td>\n",
       "      <td>10</td>\n",
       "      <td>11.0</td>\n",
       "      <td>12</td>\n",
       "      <td>foo</td>\n",
       "    </tr>\n",
       "  </tbody>\n",
       "</table>\n",
       "</div>"
      ],
      "text/plain": [
       "   Unnamed: 0 something   a   b     c   d  message\n",
       "0           0       one   1   2   3.0   4      NaN\n",
       "1           1       two   5   6   NaN   8    world\n",
       "2           2     three   9  10  11.0  12      foo"
      ]
     },
     "execution_count": 51,
     "metadata": {},
     "output_type": "execute_result"
    }
   ],
   "source": [
    "data.to_csv('out.csv')\n",
    "pd.read_csv('out.csv')"
   ]
  },
  {
   "cell_type": "code",
   "execution_count": 52,
   "id": "ca9961f0",
   "metadata": {},
   "outputs": [
    {
     "name": "stdout",
     "output_type": "stream",
     "text": [
      ",something, a, b, c, d, message\r\n",
      "0,one,1,2,3.0,4,my_NULL\r\n",
      "1,two,5,6,my_NULL,8,world\r\n",
      "2,three,9,10,11.0,12,foo\r\n"
     ]
    }
   ],
   "source": [
    "import sys\n",
    "data.to_csv(sys.stdout, na_rep='my_NULL')"
   ]
  },
  {
   "cell_type": "markdown",
   "id": "aff2b907",
   "metadata": {},
   "source": [
    "## 데이터 병합하기 (merge)\n",
    "merge는 일반적인 데이터 분석에서 이야기하는 join에 대응되는 개념으로, \n",
    "on 항으로 매칭용 컬럼을 지정한 뒤, 데이터를 매칭해서 나머지 컬럼을 채워넣는 방식"
   ]
  },
  {
   "cell_type": "code",
   "execution_count": 53,
   "id": "b6399b02",
   "metadata": {},
   "outputs": [
    {
     "data": {
      "text/html": [
       "<div>\n",
       "<style scoped>\n",
       "    .dataframe tbody tr th:only-of-type {\n",
       "        vertical-align: middle;\n",
       "    }\n",
       "\n",
       "    .dataframe tbody tr th {\n",
       "        vertical-align: top;\n",
       "    }\n",
       "\n",
       "    .dataframe thead th {\n",
       "        text-align: right;\n",
       "    }\n",
       "</style>\n",
       "<table border=\"1\" class=\"dataframe\">\n",
       "  <thead>\n",
       "    <tr style=\"text-align: right;\">\n",
       "      <th></th>\n",
       "      <th>key</th>\n",
       "      <th>column1</th>\n",
       "    </tr>\n",
       "  </thead>\n",
       "  <tbody>\n",
       "    <tr>\n",
       "      <th>0</th>\n",
       "      <td>a</td>\n",
       "      <td>0</td>\n",
       "    </tr>\n",
       "    <tr>\n",
       "      <th>1</th>\n",
       "      <td>b</td>\n",
       "      <td>1</td>\n",
       "    </tr>\n",
       "    <tr>\n",
       "      <th>2</th>\n",
       "      <td>d</td>\n",
       "      <td>2</td>\n",
       "    </tr>\n",
       "  </tbody>\n",
       "</table>\n",
       "</div>"
      ],
      "text/plain": [
       "  key   column1\n",
       "0   a         0\n",
       "1   b         1\n",
       "2   d         2"
      ]
     },
     "execution_count": 53,
     "metadata": {},
     "output_type": "execute_result"
    }
   ],
   "source": [
    "#pd.merge\n",
    "df1 = pd.read_csv('ex3.csv')\n",
    "df1"
   ]
  },
  {
   "cell_type": "code",
   "execution_count": 54,
   "id": "0ee552af",
   "metadata": {},
   "outputs": [
    {
     "data": {
      "text/html": [
       "<div>\n",
       "<style scoped>\n",
       "    .dataframe tbody tr th:only-of-type {\n",
       "        vertical-align: middle;\n",
       "    }\n",
       "\n",
       "    .dataframe tbody tr th {\n",
       "        vertical-align: top;\n",
       "    }\n",
       "\n",
       "    .dataframe thead th {\n",
       "        text-align: right;\n",
       "    }\n",
       "</style>\n",
       "<table border=\"1\" class=\"dataframe\">\n",
       "  <thead>\n",
       "    <tr style=\"text-align: right;\">\n",
       "      <th></th>\n",
       "      <th>key</th>\n",
       "      <th>column2</th>\n",
       "    </tr>\n",
       "  </thead>\n",
       "  <tbody>\n",
       "    <tr>\n",
       "      <th>0</th>\n",
       "      <td>b</td>\n",
       "      <td>0</td>\n",
       "    </tr>\n",
       "    <tr>\n",
       "      <th>1</th>\n",
       "      <td>b</td>\n",
       "      <td>1</td>\n",
       "    </tr>\n",
       "    <tr>\n",
       "      <th>2</th>\n",
       "      <td>a</td>\n",
       "      <td>2</td>\n",
       "    </tr>\n",
       "    <tr>\n",
       "      <th>3</th>\n",
       "      <td>c</td>\n",
       "      <td>3</td>\n",
       "    </tr>\n",
       "    <tr>\n",
       "      <th>4</th>\n",
       "      <td>a</td>\n",
       "      <td>4</td>\n",
       "    </tr>\n",
       "    <tr>\n",
       "      <th>5</th>\n",
       "      <td>a</td>\n",
       "      <td>5</td>\n",
       "    </tr>\n",
       "    <tr>\n",
       "      <th>6</th>\n",
       "      <td>b</td>\n",
       "      <td>6</td>\n",
       "    </tr>\n",
       "  </tbody>\n",
       "</table>\n",
       "</div>"
      ],
      "text/plain": [
       "  key  column2\n",
       "0   b        0\n",
       "1   b        1\n",
       "2   a        2\n",
       "3   c        3\n",
       "4   a        4\n",
       "5   a        5\n",
       "6   b        6"
      ]
     },
     "execution_count": 54,
     "metadata": {},
     "output_type": "execute_result"
    }
   ],
   "source": [
    "df2 = pd.read_csv('ex4.csv')\n",
    "df2"
   ]
  },
  {
   "cell_type": "code",
   "execution_count": 55,
   "id": "70a61897",
   "metadata": {},
   "outputs": [
    {
     "data": {
      "text/html": [
       "<div>\n",
       "<style scoped>\n",
       "    .dataframe tbody tr th:only-of-type {\n",
       "        vertical-align: middle;\n",
       "    }\n",
       "\n",
       "    .dataframe tbody tr th {\n",
       "        vertical-align: top;\n",
       "    }\n",
       "\n",
       "    .dataframe thead th {\n",
       "        text-align: right;\n",
       "    }\n",
       "</style>\n",
       "<table border=\"1\" class=\"dataframe\">\n",
       "  <thead>\n",
       "    <tr style=\"text-align: right;\">\n",
       "      <th></th>\n",
       "      <th>key</th>\n",
       "      <th>column1</th>\n",
       "      <th>column2</th>\n",
       "    </tr>\n",
       "  </thead>\n",
       "  <tbody>\n",
       "    <tr>\n",
       "      <th>0</th>\n",
       "      <td>a</td>\n",
       "      <td>0</td>\n",
       "      <td>2</td>\n",
       "    </tr>\n",
       "    <tr>\n",
       "      <th>1</th>\n",
       "      <td>a</td>\n",
       "      <td>0</td>\n",
       "      <td>4</td>\n",
       "    </tr>\n",
       "    <tr>\n",
       "      <th>2</th>\n",
       "      <td>a</td>\n",
       "      <td>0</td>\n",
       "      <td>5</td>\n",
       "    </tr>\n",
       "    <tr>\n",
       "      <th>3</th>\n",
       "      <td>b</td>\n",
       "      <td>1</td>\n",
       "      <td>0</td>\n",
       "    </tr>\n",
       "    <tr>\n",
       "      <th>4</th>\n",
       "      <td>b</td>\n",
       "      <td>1</td>\n",
       "      <td>1</td>\n",
       "    </tr>\n",
       "    <tr>\n",
       "      <th>5</th>\n",
       "      <td>b</td>\n",
       "      <td>1</td>\n",
       "      <td>6</td>\n",
       "    </tr>\n",
       "  </tbody>\n",
       "</table>\n",
       "</div>"
      ],
      "text/plain": [
       "  key   column1  column2\n",
       "0   a         0        2\n",
       "1   a         0        4\n",
       "2   a         0        5\n",
       "3   b         1        0\n",
       "4   b         1        1\n",
       "5   b         1        6"
      ]
     },
     "execution_count": 55,
     "metadata": {},
     "output_type": "execute_result"
    }
   ],
   "source": [
    "pd.merge(df1, df2, on='key')"
   ]
  },
  {
   "cell_type": "code",
   "execution_count": 56,
   "id": "c27ee478",
   "metadata": {},
   "outputs": [
    {
     "data": {
      "text/html": [
       "<div>\n",
       "<style scoped>\n",
       "    .dataframe tbody tr th:only-of-type {\n",
       "        vertical-align: middle;\n",
       "    }\n",
       "\n",
       "    .dataframe tbody tr th {\n",
       "        vertical-align: top;\n",
       "    }\n",
       "\n",
       "    .dataframe thead th {\n",
       "        text-align: right;\n",
       "    }\n",
       "</style>\n",
       "<table border=\"1\" class=\"dataframe\">\n",
       "  <thead>\n",
       "    <tr style=\"text-align: right;\">\n",
       "      <th></th>\n",
       "      <th>key</th>\n",
       "      <th>column1</th>\n",
       "      <th>column2</th>\n",
       "    </tr>\n",
       "  </thead>\n",
       "  <tbody>\n",
       "    <tr>\n",
       "      <th>0</th>\n",
       "      <td>a</td>\n",
       "      <td>0</td>\n",
       "      <td>2.0</td>\n",
       "    </tr>\n",
       "    <tr>\n",
       "      <th>1</th>\n",
       "      <td>a</td>\n",
       "      <td>0</td>\n",
       "      <td>4.0</td>\n",
       "    </tr>\n",
       "    <tr>\n",
       "      <th>2</th>\n",
       "      <td>a</td>\n",
       "      <td>0</td>\n",
       "      <td>5.0</td>\n",
       "    </tr>\n",
       "    <tr>\n",
       "      <th>3</th>\n",
       "      <td>b</td>\n",
       "      <td>1</td>\n",
       "      <td>0.0</td>\n",
       "    </tr>\n",
       "    <tr>\n",
       "      <th>4</th>\n",
       "      <td>b</td>\n",
       "      <td>1</td>\n",
       "      <td>1.0</td>\n",
       "    </tr>\n",
       "    <tr>\n",
       "      <th>5</th>\n",
       "      <td>b</td>\n",
       "      <td>1</td>\n",
       "      <td>6.0</td>\n",
       "    </tr>\n",
       "    <tr>\n",
       "      <th>6</th>\n",
       "      <td>d</td>\n",
       "      <td>2</td>\n",
       "      <td>NaN</td>\n",
       "    </tr>\n",
       "  </tbody>\n",
       "</table>\n",
       "</div>"
      ],
      "text/plain": [
       "  key   column1  column2\n",
       "0   a         0      2.0\n",
       "1   a         0      4.0\n",
       "2   a         0      5.0\n",
       "3   b         1      0.0\n",
       "4   b         1      1.0\n",
       "5   b         1      6.0\n",
       "6   d         2      NaN"
      ]
     },
     "execution_count": 56,
     "metadata": {},
     "output_type": "execute_result"
    }
   ],
   "source": [
    "pd.merge(df1, df2, how='left')"
   ]
  },
  {
   "cell_type": "code",
   "execution_count": 57,
   "id": "f2c0f9b3",
   "metadata": {},
   "outputs": [
    {
     "data": {
      "text/html": [
       "<div>\n",
       "<style scoped>\n",
       "    .dataframe tbody tr th:only-of-type {\n",
       "        vertical-align: middle;\n",
       "    }\n",
       "\n",
       "    .dataframe tbody tr th {\n",
       "        vertical-align: top;\n",
       "    }\n",
       "\n",
       "    .dataframe thead th {\n",
       "        text-align: right;\n",
       "    }\n",
       "</style>\n",
       "<table border=\"1\" class=\"dataframe\">\n",
       "  <thead>\n",
       "    <tr style=\"text-align: right;\">\n",
       "      <th></th>\n",
       "      <th>key</th>\n",
       "      <th>column1</th>\n",
       "      <th>column2</th>\n",
       "    </tr>\n",
       "  </thead>\n",
       "  <tbody>\n",
       "    <tr>\n",
       "      <th>0</th>\n",
       "      <td>b</td>\n",
       "      <td>1.0</td>\n",
       "      <td>0</td>\n",
       "    </tr>\n",
       "    <tr>\n",
       "      <th>1</th>\n",
       "      <td>b</td>\n",
       "      <td>1.0</td>\n",
       "      <td>1</td>\n",
       "    </tr>\n",
       "    <tr>\n",
       "      <th>2</th>\n",
       "      <td>a</td>\n",
       "      <td>0.0</td>\n",
       "      <td>2</td>\n",
       "    </tr>\n",
       "    <tr>\n",
       "      <th>3</th>\n",
       "      <td>c</td>\n",
       "      <td>NaN</td>\n",
       "      <td>3</td>\n",
       "    </tr>\n",
       "    <tr>\n",
       "      <th>4</th>\n",
       "      <td>a</td>\n",
       "      <td>0.0</td>\n",
       "      <td>4</td>\n",
       "    </tr>\n",
       "    <tr>\n",
       "      <th>5</th>\n",
       "      <td>a</td>\n",
       "      <td>0.0</td>\n",
       "      <td>5</td>\n",
       "    </tr>\n",
       "    <tr>\n",
       "      <th>6</th>\n",
       "      <td>b</td>\n",
       "      <td>1.0</td>\n",
       "      <td>6</td>\n",
       "    </tr>\n",
       "  </tbody>\n",
       "</table>\n",
       "</div>"
      ],
      "text/plain": [
       "  key   column1  column2\n",
       "0   b       1.0        0\n",
       "1   b       1.0        1\n",
       "2   a       0.0        2\n",
       "3   c       NaN        3\n",
       "4   a       0.0        4\n",
       "5   a       0.0        5\n",
       "6   b       1.0        6"
      ]
     },
     "execution_count": 57,
     "metadata": {},
     "output_type": "execute_result"
    }
   ],
   "source": [
    "pd.merge(df1, df2, how='right')"
   ]
  },
  {
   "cell_type": "code",
   "execution_count": 58,
   "id": "58bc8d8b",
   "metadata": {},
   "outputs": [
    {
     "data": {
      "text/html": [
       "<div>\n",
       "<style scoped>\n",
       "    .dataframe tbody tr th:only-of-type {\n",
       "        vertical-align: middle;\n",
       "    }\n",
       "\n",
       "    .dataframe tbody tr th {\n",
       "        vertical-align: top;\n",
       "    }\n",
       "\n",
       "    .dataframe thead th {\n",
       "        text-align: right;\n",
       "    }\n",
       "</style>\n",
       "<table border=\"1\" class=\"dataframe\">\n",
       "  <thead>\n",
       "    <tr style=\"text-align: right;\">\n",
       "      <th></th>\n",
       "      <th>key</th>\n",
       "      <th>column1</th>\n",
       "      <th>column2</th>\n",
       "    </tr>\n",
       "  </thead>\n",
       "  <tbody>\n",
       "    <tr>\n",
       "      <th>0</th>\n",
       "      <td>a</td>\n",
       "      <td>0.0</td>\n",
       "      <td>2.0</td>\n",
       "    </tr>\n",
       "    <tr>\n",
       "      <th>1</th>\n",
       "      <td>a</td>\n",
       "      <td>0.0</td>\n",
       "      <td>4.0</td>\n",
       "    </tr>\n",
       "    <tr>\n",
       "      <th>2</th>\n",
       "      <td>a</td>\n",
       "      <td>0.0</td>\n",
       "      <td>5.0</td>\n",
       "    </tr>\n",
       "    <tr>\n",
       "      <th>3</th>\n",
       "      <td>b</td>\n",
       "      <td>1.0</td>\n",
       "      <td>0.0</td>\n",
       "    </tr>\n",
       "    <tr>\n",
       "      <th>4</th>\n",
       "      <td>b</td>\n",
       "      <td>1.0</td>\n",
       "      <td>1.0</td>\n",
       "    </tr>\n",
       "    <tr>\n",
       "      <th>5</th>\n",
       "      <td>b</td>\n",
       "      <td>1.0</td>\n",
       "      <td>6.0</td>\n",
       "    </tr>\n",
       "    <tr>\n",
       "      <th>6</th>\n",
       "      <td>d</td>\n",
       "      <td>2.0</td>\n",
       "      <td>NaN</td>\n",
       "    </tr>\n",
       "    <tr>\n",
       "      <th>7</th>\n",
       "      <td>c</td>\n",
       "      <td>NaN</td>\n",
       "      <td>3.0</td>\n",
       "    </tr>\n",
       "  </tbody>\n",
       "</table>\n",
       "</div>"
      ],
      "text/plain": [
       "  key   column1  column2\n",
       "0   a       0.0      2.0\n",
       "1   a       0.0      4.0\n",
       "2   a       0.0      5.0\n",
       "3   b       1.0      0.0\n",
       "4   b       1.0      1.0\n",
       "5   b       1.0      6.0\n",
       "6   d       2.0      NaN\n",
       "7   c       NaN      3.0"
      ]
     },
     "execution_count": 58,
     "metadata": {},
     "output_type": "execute_result"
    }
   ],
   "source": [
    "pd.merge(df1, df2, how='outer')"
   ]
  },
  {
   "cell_type": "markdown",
   "id": "2cad6f50",
   "metadata": {},
   "source": [
    "## 데이터 이어붙이기 (concat)\n",
    "매칭의 개념을 무시하고 그대로 특정 축 방향으로 이어 붙임"
   ]
  },
  {
   "cell_type": "code",
   "execution_count": 59,
   "id": "99063b92",
   "metadata": {},
   "outputs": [
    {
     "data": {
      "text/plain": [
       "a    0\n",
       "b    1\n",
       "dtype: int64"
      ]
     },
     "execution_count": 59,
     "metadata": {},
     "output_type": "execute_result"
    }
   ],
   "source": [
    "s1 = pd.Series([0, 1], index=['a', 'b'])\n",
    "s1"
   ]
  },
  {
   "cell_type": "code",
   "execution_count": 60,
   "id": "35506e11",
   "metadata": {},
   "outputs": [
    {
     "data": {
      "text/plain": [
       "c    2\n",
       "d    3\n",
       "e    4\n",
       "dtype: int64"
      ]
     },
     "execution_count": 60,
     "metadata": {},
     "output_type": "execute_result"
    }
   ],
   "source": [
    "s2 = pd.Series([2, 3, 4], index=['c','d','e'])\n",
    "s2"
   ]
  },
  {
   "cell_type": "code",
   "execution_count": 61,
   "id": "3b03af62",
   "metadata": {},
   "outputs": [
    {
     "data": {
      "text/plain": [
       "f    5\n",
       "g    6\n",
       "dtype: int64"
      ]
     },
     "execution_count": 61,
     "metadata": {},
     "output_type": "execute_result"
    }
   ],
   "source": [
    "s3 = pd.Series([5, 6], index=['f', 'g'])\n",
    "s3"
   ]
  },
  {
   "cell_type": "code",
   "execution_count": 62,
   "id": "80f10d21",
   "metadata": {},
   "outputs": [
    {
     "data": {
      "text/plain": [
       "a    0\n",
       "b    1\n",
       "c    2\n",
       "d    3\n",
       "e    4\n",
       "f    5\n",
       "g    6\n",
       "dtype: int64"
      ]
     },
     "execution_count": 62,
     "metadata": {},
     "output_type": "execute_result"
    }
   ],
   "source": [
    "pd.concat([s1,s2,s3])"
   ]
  },
  {
   "cell_type": "code",
   "execution_count": 63,
   "id": "e23b78cd",
   "metadata": {},
   "outputs": [
    {
     "data": {
      "text/html": [
       "<div>\n",
       "<style scoped>\n",
       "    .dataframe tbody tr th:only-of-type {\n",
       "        vertical-align: middle;\n",
       "    }\n",
       "\n",
       "    .dataframe tbody tr th {\n",
       "        vertical-align: top;\n",
       "    }\n",
       "\n",
       "    .dataframe thead th {\n",
       "        text-align: right;\n",
       "    }\n",
       "</style>\n",
       "<table border=\"1\" class=\"dataframe\">\n",
       "  <thead>\n",
       "    <tr style=\"text-align: right;\">\n",
       "      <th></th>\n",
       "      <th>0</th>\n",
       "      <th>1</th>\n",
       "      <th>2</th>\n",
       "    </tr>\n",
       "  </thead>\n",
       "  <tbody>\n",
       "    <tr>\n",
       "      <th>a</th>\n",
       "      <td>0.0</td>\n",
       "      <td>NaN</td>\n",
       "      <td>NaN</td>\n",
       "    </tr>\n",
       "    <tr>\n",
       "      <th>b</th>\n",
       "      <td>1.0</td>\n",
       "      <td>NaN</td>\n",
       "      <td>NaN</td>\n",
       "    </tr>\n",
       "    <tr>\n",
       "      <th>c</th>\n",
       "      <td>NaN</td>\n",
       "      <td>2.0</td>\n",
       "      <td>NaN</td>\n",
       "    </tr>\n",
       "    <tr>\n",
       "      <th>d</th>\n",
       "      <td>NaN</td>\n",
       "      <td>3.0</td>\n",
       "      <td>NaN</td>\n",
       "    </tr>\n",
       "    <tr>\n",
       "      <th>e</th>\n",
       "      <td>NaN</td>\n",
       "      <td>4.0</td>\n",
       "      <td>NaN</td>\n",
       "    </tr>\n",
       "    <tr>\n",
       "      <th>f</th>\n",
       "      <td>NaN</td>\n",
       "      <td>NaN</td>\n",
       "      <td>5.0</td>\n",
       "    </tr>\n",
       "    <tr>\n",
       "      <th>g</th>\n",
       "      <td>NaN</td>\n",
       "      <td>NaN</td>\n",
       "      <td>6.0</td>\n",
       "    </tr>\n",
       "  </tbody>\n",
       "</table>\n",
       "</div>"
      ],
      "text/plain": [
       "     0    1    2\n",
       "a  0.0  NaN  NaN\n",
       "b  1.0  NaN  NaN\n",
       "c  NaN  2.0  NaN\n",
       "d  NaN  3.0  NaN\n",
       "e  NaN  4.0  NaN\n",
       "f  NaN  NaN  5.0\n",
       "g  NaN  NaN  6.0"
      ]
     },
     "execution_count": 63,
     "metadata": {},
     "output_type": "execute_result"
    }
   ],
   "source": [
    "pd.concat([s1,s2,s3], axis=1)"
   ]
  },
  {
   "cell_type": "markdown",
   "id": "36bd6fef",
   "metadata": {},
   "source": [
    "## 데이터 재형성(stack/unstack)\n",
    "- stack : 데이터의 여러 컬럼들을 행 방향의 하위 index로 바꾸어 전체 데이터가 위 아래로 길어지도록 쌓음(stack)\n",
    "- unstack : 하위 index로 길게 쌓여있던 데이터를 하위 index 한 종류마다 서로 다른 이름의 컬럼이 되도록 옆으로 펼쳐좋음"
   ]
  },
  {
   "cell_type": "code",
   "execution_count": 64,
   "id": "7f528aad",
   "metadata": {},
   "outputs": [
    {
     "data": {
      "text/html": [
       "<div>\n",
       "<style scoped>\n",
       "    .dataframe tbody tr th:only-of-type {\n",
       "        vertical-align: middle;\n",
       "    }\n",
       "\n",
       "    .dataframe tbody tr th {\n",
       "        vertical-align: top;\n",
       "    }\n",
       "\n",
       "    .dataframe thead th {\n",
       "        text-align: right;\n",
       "    }\n",
       "</style>\n",
       "<table border=\"1\" class=\"dataframe\">\n",
       "  <thead>\n",
       "    <tr style=\"text-align: right;\">\n",
       "      <th></th>\n",
       "      <th>one</th>\n",
       "      <th>two</th>\n",
       "      <th>three</th>\n",
       "    </tr>\n",
       "  </thead>\n",
       "  <tbody>\n",
       "    <tr>\n",
       "      <th>Ohio</th>\n",
       "      <td>0</td>\n",
       "      <td>1</td>\n",
       "      <td>2</td>\n",
       "    </tr>\n",
       "    <tr>\n",
       "      <th>Colorado</th>\n",
       "      <td>3</td>\n",
       "      <td>4</td>\n",
       "      <td>5</td>\n",
       "    </tr>\n",
       "  </tbody>\n",
       "</table>\n",
       "</div>"
      ],
      "text/plain": [
       "          one  two  three\n",
       "Ohio        0    1      2\n",
       "Colorado    3    4      5"
      ]
     },
     "execution_count": 64,
     "metadata": {},
     "output_type": "execute_result"
    }
   ],
   "source": [
    "data = pd.DataFrame(\n",
    "  np.arange(6).reshape((2,3))\n",
    "  ,index = ['Ohio','Colorado']\n",
    "  ,columns = ['one','two','three']\n",
    ")\n",
    "data"
   ]
  },
  {
   "cell_type": "code",
   "execution_count": 65,
   "id": "707d8ed6",
   "metadata": {},
   "outputs": [
    {
     "data": {
      "text/plain": [
       "Ohio      one      0\n",
       "          two      1\n",
       "          three    2\n",
       "Colorado  one      3\n",
       "          two      4\n",
       "          three    5\n",
       "dtype: int32"
      ]
     },
     "execution_count": 65,
     "metadata": {},
     "output_type": "execute_result"
    }
   ],
   "source": [
    "data_stacked = data.stack() #one, two, three 컬럼명을 하위 index로 이동시킴\n",
    "data_stacked"
   ]
  },
  {
   "cell_type": "code",
   "execution_count": 66,
   "id": "e7810482",
   "metadata": {},
   "outputs": [
    {
     "data": {
      "text/plain": [
       "Ohio      one      0\n",
       "          two      1\n",
       "          three    2\n",
       "Colorado  one      3\n",
       "          two      4\n",
       "          three    5\n",
       "dtype: int32"
      ]
     },
     "execution_count": 66,
     "metadata": {},
     "output_type": "execute_result"
    }
   ],
   "source": [
    "data_stacked"
   ]
  },
  {
   "cell_type": "code",
   "execution_count": 67,
   "id": "75ca2a3d",
   "metadata": {},
   "outputs": [
    {
     "data": {
      "text/html": [
       "<div>\n",
       "<style scoped>\n",
       "    .dataframe tbody tr th:only-of-type {\n",
       "        vertical-align: middle;\n",
       "    }\n",
       "\n",
       "    .dataframe tbody tr th {\n",
       "        vertical-align: top;\n",
       "    }\n",
       "\n",
       "    .dataframe thead th {\n",
       "        text-align: right;\n",
       "    }\n",
       "</style>\n",
       "<table border=\"1\" class=\"dataframe\">\n",
       "  <thead>\n",
       "    <tr style=\"text-align: right;\">\n",
       "      <th></th>\n",
       "      <th>Ohio</th>\n",
       "      <th>Colorado</th>\n",
       "    </tr>\n",
       "  </thead>\n",
       "  <tbody>\n",
       "    <tr>\n",
       "      <th>one</th>\n",
       "      <td>0</td>\n",
       "      <td>3</td>\n",
       "    </tr>\n",
       "    <tr>\n",
       "      <th>two</th>\n",
       "      <td>1</td>\n",
       "      <td>4</td>\n",
       "    </tr>\n",
       "    <tr>\n",
       "      <th>three</th>\n",
       "      <td>2</td>\n",
       "      <td>5</td>\n",
       "    </tr>\n",
       "  </tbody>\n",
       "</table>\n",
       "</div>"
      ],
      "text/plain": [
       "       Ohio  Colorado\n",
       "one       0         3\n",
       "two       1         4\n",
       "three     2         5"
      ]
     },
     "execution_count": 67,
     "metadata": {},
     "output_type": "execute_result"
    }
   ],
   "source": [
    "data_stacked.unstack(0) #level 0 (첫번째) index인 Ohio Colorado index를 컬럼으로 펼침"
   ]
  },
  {
   "cell_type": "code",
   "execution_count": 68,
   "id": "889495f7",
   "metadata": {},
   "outputs": [
    {
     "data": {
      "text/html": [
       "<div>\n",
       "<style scoped>\n",
       "    .dataframe tbody tr th:only-of-type {\n",
       "        vertical-align: middle;\n",
       "    }\n",
       "\n",
       "    .dataframe tbody tr th {\n",
       "        vertical-align: top;\n",
       "    }\n",
       "\n",
       "    .dataframe thead th {\n",
       "        text-align: right;\n",
       "    }\n",
       "</style>\n",
       "<table border=\"1\" class=\"dataframe\">\n",
       "  <thead>\n",
       "    <tr style=\"text-align: right;\">\n",
       "      <th></th>\n",
       "      <th>one</th>\n",
       "      <th>two</th>\n",
       "      <th>three</th>\n",
       "    </tr>\n",
       "  </thead>\n",
       "  <tbody>\n",
       "    <tr>\n",
       "      <th>Ohio</th>\n",
       "      <td>0</td>\n",
       "      <td>1</td>\n",
       "      <td>2</td>\n",
       "    </tr>\n",
       "    <tr>\n",
       "      <th>Colorado</th>\n",
       "      <td>3</td>\n",
       "      <td>4</td>\n",
       "      <td>5</td>\n",
       "    </tr>\n",
       "  </tbody>\n",
       "</table>\n",
       "</div>"
      ],
      "text/plain": [
       "          one  two  three\n",
       "Ohio        0    1      2\n",
       "Colorado    3    4      5"
      ]
     },
     "execution_count": 68,
     "metadata": {},
     "output_type": "execute_result"
    }
   ],
   "source": [
    "data_stacked.unstack(-1) #level -1 (마지막) index인 one two three index를 컬럼으로 펼침"
   ]
  },
  {
   "cell_type": "markdown",
   "id": "ed24a4cf",
   "metadata": {},
   "source": [
    "# 4. 패키지 불러오기\n",
    "- 설치는 anaconda prompt에 들어가서 pip이나 conda를 이용\n",
    "- 불러올 때에는 import 문 이용"
   ]
  },
  {
   "cell_type": "code",
   "execution_count": 69,
   "id": "fec53149",
   "metadata": {},
   "outputs": [
    {
     "data": {
      "text/plain": [
       "<function numpy.concatenate>"
      ]
     },
     "execution_count": 69,
     "metadata": {},
     "output_type": "execute_result"
    }
   ],
   "source": [
    "#불러오기 예제\n",
    "import numpy\n",
    "numpy.concatenate"
   ]
  },
  {
   "cell_type": "code",
   "execution_count": 70,
   "id": "730c1a6a",
   "metadata": {},
   "outputs": [
    {
     "data": {
      "text/plain": [
       "<function pandas.core.reshape.concat.concat(objs: 'Iterable[NDFrame] | Mapping[HashableT, NDFrame]', *, axis: 'Axis' = 0, join: 'str' = 'outer', ignore_index: 'bool' = False, keys=None, levels=None, names=None, verify_integrity: 'bool' = False, sort: 'bool' = False, copy: 'bool' = True) -> 'DataFrame | Series'>"
      ]
     },
     "execution_count": 70,
     "metadata": {},
     "output_type": "execute_result"
    }
   ],
   "source": [
    "import pandas as pd #축약형 사용\n",
    "pd.concat"
   ]
  },
  {
   "cell_type": "code",
   "execution_count": 73,
   "id": "e100e472",
   "metadata": {},
   "outputs": [
    {
     "data": {
      "text/plain": [
       "<function scipy.signal._spectral_py.stft(x, fs=1.0, window='hann', nperseg=256, noverlap=None, nfft=None, detrend=False, return_onesided=True, boundary='zeros', padded=True, axis=-1, scaling='spectrum')>"
      ]
     },
     "execution_count": 73,
     "metadata": {},
     "output_type": "execute_result"
    }
   ],
   "source": [
    "from scipy import signal #본 패키지명을 쓰지 않고 참조하기\n",
    "signal.stft #풀 이름인 scipy.signal.stft 대신"
   ]
  },
  {
   "cell_type": "code",
   "execution_count": 74,
   "id": "dc44a02d",
   "metadata": {},
   "outputs": [],
   "source": [
    "import matplotlib.pyplot as plt #서브패키지 불러와서 축약형"
   ]
  }
 ],
 "metadata": {
  "kernelspec": {
   "display_name": "Python 3 (ipykernel)",
   "language": "python",
   "name": "python3"
  },
  "language_info": {
   "codemirror_mode": {
    "name": "ipython",
    "version": 3
   },
   "file_extension": ".py",
   "mimetype": "text/x-python",
   "name": "python",
   "nbconvert_exporter": "python",
   "pygments_lexer": "ipython3",
   "version": "3.10.9"
  }
 },
 "nbformat": 4,
 "nbformat_minor": 5
}
